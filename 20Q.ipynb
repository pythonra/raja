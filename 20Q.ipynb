{
  "cells": [
    {
      "cell_type": "code",
      "execution_count": 48,
      "metadata": {
        "colab": {
          "base_uri": "https://localhost:8080/",
          "height": 0
        },
        "id": "Pvfx3G6qFmu_",
        "outputId": "cb641e81-ee9e-43b5-96b3-8e4375825e52"
      },
      "outputs": [
        {
          "name": "stdout",
          "output_type": "stream",
          "text": [
            "Enter first number: 23 \n",
            "Enter second number: 12\n",
            "Sum: 35\n"
          ]
        }
      ],
      "source": [
        "num1 = int(input(\"Enter first number: \")) #'12' -> 12\n",
        "num2 = int(input(\"Enter second number: \")) #'12' -> 12\n",
        "sum = num1 + num2\n",
        "print(\"Sum:\", sum)"
      ]
    },
    {
      "cell_type": "code",
      "execution_count": 2,
      "metadata": {
        "colab": {
          "base_uri": "https://localhost:8080/",
          "height": 0
        },
        "id": "6QCir2s83VlE",
        "outputId": "167687c9-e353-4e30-c24d-7d661bdab5ec"
      },
      "outputs": [
        {
          "name": "stdout",
          "output_type": "stream",
          "text": [
            "Enter a number: 2\n",
            "2 is an Armstrong number\n"
          ]
        }
      ],
      "source": [
        "def is_armstrong(num):#2,3,\n",
        "    order = len(str(num))#2 -> '2' -> 1\n",
        "    sum = 0\n",
        "    temp = num\n",
        "    while temp > 0:\n",
        "        digit = temp % 10\n",
        "        sum += digit ** order\n",
        "        temp //= 10\n",
        "    return num == sum\n",
        "\n",
        "# Example usage:\n",
        "num = int(input(\"Enter a number: \"))\n",
        "if is_armstrong(num):\n",
        "    print(num, \"is an Armstrong number\")\n",
        "else:\n",
        "    print(num, \"is not an Armstrong number\")\n"
      ]
    },
    {
      "cell_type": "code",
      "execution_count": 10,
      "metadata": {
        "colab": {
          "base_uri": "https://localhost:8080/",
          "height": 0
        },
        "id": "l_fYptxC4P8n",
        "outputId": "41697a29-11cf-40f1-a72b-a18a94972783"
      },
      "outputs": [
        {
          "name": "stdout",
          "output_type": "stream",
          "text": [
            "Enter a number: 12\n",
            "12 is not an prime number\n"
          ]
        }
      ],
      "source": [
        "def is_prime(num):\n",
        "    if num <= 1:\n",
        "        return False\n",
        "    for i in range(2, int(num**0.5) + 1):\n",
        "        if num % i == 0:\n",
        "            return False\n",
        "    return True\n",
        "\n",
        "# User Input:\n",
        "num = int(input(\"Enter a number: \"))\n",
        "if is_prime(num):\n",
        "    print(num, \"is an prime number\")\n",
        "else:\n",
        "    print(num, \"is not an prime number\")\n"
      ]
    },
    {
      "cell_type": "code",
      "execution_count": 47,
      "metadata": {
        "colab": {
          "base_uri": "https://localhost:8080/",
          "height": 0
        },
        "id": "txpETdjq5dUH",
        "outputId": "5652e348-86c7-46b5-fec5-db0d8bba21b9"
      },
      "outputs": [
        {
          "name": "stdout",
          "output_type": "stream",
          "text": [
            "Enter elements of the list separated by space: 1 2 3 4 5\n",
            "The largest among the array is  5\n"
          ]
        }
      ],
      "source": [
        "lst = [int(x) for x in input(\"Enter elements of the list separated by space: \").split()]\n",
        "print(\"The largest among the array is \",max(lst))"
      ]
    },
    {
      "cell_type": "code",
      "execution_count": 15,
      "metadata": {
        "colab": {
          "base_uri": "https://localhost:8080/",
          "height": 0
        },
        "id": "4ga4Wrd96Ebd",
        "outputId": "bb5f614d-628a-46c0-c177-80fd6bbec7bb"
      },
      "outputs": [
        {
          "name": "stdout",
          "output_type": "stream",
          "text": [
            "Enter the size of array :2\n",
            "Enter the No.6\n",
            "Enter the No.4\n",
            "Enter index of first element to swap: 0\n",
            "Enter index of second element to swap: 1\n",
            "List after swapping: [4, 6]\n"
          ]
        }
      ],
      "source": [
        "def swap_elements(lst, idx1, idx2):\n",
        "    lst[idx1], lst[idx2] = lst[idx2], lst[idx1]\n",
        "\n",
        "lst =[]\n",
        "\n",
        "# Example usage:\n",
        "size = int(input(\"Enter the size of array :\"))\n",
        "for i in range(size):\n",
        "    lst.append(int(input(\"Enter the No.\")))\n",
        "\n",
        "elt1 = int(input(\"Enter index of first element to swap: \"))\n",
        "elt2 = int(input(\"Enter index of second element to swap: \"))\n",
        "swap_elements(lst, elt1, elt2)\n",
        "print(\"List after swapping:\", lst)"
      ]
    },
    {
      "cell_type": "code",
      "execution_count": 16,
      "metadata": {
        "colab": {
          "base_uri": "https://localhost:8080/",
          "height": 0
        },
        "id": "6_7mTaxz9Qnf",
        "outputId": "c7034c74-54b5-450e-d37e-9404b99d8662"
      },
      "outputs": [
        {
          "name": "stdout",
          "output_type": "stream",
          "text": [
            "Enter elements of the list separated by space: 1 2 3 4 5\n",
            "Reversed list: [5, 4, 3, 2, 1]\n"
          ]
        }
      ],
      "source": [
        "# User Input\n",
        "lst = [int(x) for x in input(\"Enter elements of the list separated by space: \").split()]\n",
        "lst_rev = lst[::-1]\n",
        "print(\"Reversed list:\", lst_rev)"
      ]
    },
    {
      "cell_type": "code",
      "execution_count": 21,
      "metadata": {
        "colab": {
          "base_uri": "https://localhost:8080/",
          "height": 0
        },
        "id": "K8iyjwhf9qxC",
        "outputId": "2a47ffb7-a003-4f21-e3bd-daec5b58d3af"
      },
      "outputs": [
        {
          "name": "stdout",
          "output_type": "stream",
          "text": [
            "Enter elements of the list separated by space : 1 2 3 4 5\n",
            "Odd numbers: [1, 3, 5]\n",
            "Even numbers: [2, 4]\n"
          ]
        }
      ],
      "source": [
        "def find_odd_even(lst):\n",
        "    odd = [x for x in lst if x % 2 != 0] #!= -> not_equal\n",
        "    even = [x for x in lst if x % 2 == 0] # == -> equal\n",
        "    return odd, even\n",
        "\n",
        "# Example usage:\n",
        "lst = [int(x) for x in input(\"Enter elements of the list separated by space : \").split()]\n",
        "odd, even = find_odd_even(lst)\n",
        "print(\"Odd numbers:\", odd)\n",
        "print(\"Even numbers:\", even)\n"
      ]
    },
    {
      "cell_type": "code",
      "execution_count": 22,
      "metadata": {
        "colab": {
          "base_uri": "https://localhost:8080/",
          "height": 0
        },
        "id": "lrf_05LF-4-D",
        "outputId": "ab839be6-bb2d-499e-bdd0-7ca9db7827a2"
      },
      "outputs": [
        {
          "name": "stdout",
          "output_type": "stream",
          "text": [
            "Matrix addition:\n",
            "[[ 6  8]\n",
            " [10 12]]\n"
          ]
        }
      ],
      "source": [
        "import numpy as np\n",
        "\n",
        "# Example usage:\n",
        "matrix1 = np.array([[1, 2], [3, 4]])\n",
        "matrix2 = np.array([[5, 6], [7, 8]])\n",
        "print(\"Matrix addition:\")\n",
        "print(np.add(matrix1, matrix2))"
      ]
    },
    {
      "cell_type": "code",
      "execution_count": 23,
      "metadata": {
        "colab": {
          "base_uri": "https://localhost:8080/",
          "height": 0
        },
        "id": "RZKaXccs_nyH",
        "outputId": "b35382aa-4533-4c9e-94e7-7aca73e09a14"
      },
      "outputs": [
        {
          "name": "stdout",
          "output_type": "stream",
          "text": [
            "Matrix multiplication:\n",
            "[[22 28]\n",
            " [49 62]]\n"
          ]
        }
      ],
      "source": [
        "import numpy as np\n",
        "\n",
        "matrix1 = np.array([[1, 2, 3], [3, 4, 6]])\n",
        "matrix2 = np.array([[5, 6], [7, 8], [1, 2]])\n",
        "print(\"Matrix multiplication:\")\n",
        "print(np.dot(matrix1, matrix2))"
      ]
    },
    {
      "cell_type": "code",
      "execution_count": 26,
      "metadata": {
        "colab": {
          "base_uri": "https://localhost:8080/",
          "height": 0
        },
        "id": "pdQK1DaW_zxY",
        "outputId": "ff3918dd-0c85-4890-9886-1b63194a52d8"
      },
      "outputs": [
        {
          "name": "stdout",
          "output_type": "stream",
          "text": [
            "Enter a string: raja\n",
            "Not a palindrome\n"
          ]
        }
      ],
      "source": [
        "def is_palindrome(s):\n",
        "    s = s.lower()\n",
        "    return s == s[::-1]\n",
        "\n",
        "# Example usage:\n",
        "string = input(\"Enter a string: \")\n",
        "if is_palindrome(string):\n",
        "    print(\"Palindrome\")\n",
        "else:\n",
        "    print(\"Not a palindrome\")"
      ]
    },
    {
      "cell_type": "code",
      "execution_count": 29,
      "metadata": {
        "colab": {
          "base_uri": "https://localhost:8080/",
          "height": 0
        },
        "id": "lB0lf2IuAM2K",
        "outputId": "3be248e6-4c4b-4081-a521-0e0298471e3d"
      },
      "outputs": [
        {
          "name": "stdout",
          "output_type": "stream",
          "text": [
            "Enter elements of the list separated by space : 1 2 3 4 5\n",
            "Size of tuple1: 5\n"
          ]
        }
      ],
      "source": [
        "tuple1 = tuple(int(x) for x in input(\"Enter elements of the the tuple separated by space : \").split())\n",
        "print(\"Size of the tuple:\", len(tuple1))"
      ]
    },
    {
      "cell_type": "code",
      "execution_count": 32,
      "metadata": {
        "colab": {
          "base_uri": "https://localhost:8080/",
          "height": 0
        },
        "id": "VSa2DY3AAuOe",
        "outputId": "5969770f-1097-4003-d2ea-6479c74c1025"
      },
      "outputs": [
        {
          "name": "stdout",
          "output_type": "stream",
          "text": [
            "Current date and time: 2024-02-29 17:58:15.163165\n"
          ]
        }
      ],
      "source": [
        "import datetime\n",
        "print(\"Current date and time:\", datetime.datetime.now())"
      ]
    },
    {
      "cell_type": "code",
      "execution_count": 33,
      "metadata": {
        "colab": {
          "base_uri": "https://localhost:8080/",
          "height": 0
        },
        "id": "xvAG3aLaA6Zo",
        "outputId": "b82d0aed-c2fd-420a-bc8c-5e78f7071e4d"
      },
      "outputs": [
        {
          "name": "stdout",
          "output_type": "stream",
          "text": [
            "  ***  \n",
            " *   * \n",
            " *     \n",
            " * *** \n",
            " *   * \n",
            " *   * \n",
            "  ***  \n",
            "\n"
          ]
        }
      ],
      "source": [
        "def print_pattern_G():\n",
        "    pattern = \"\"\n",
        "    for i in range(7):\n",
        "        for j in range(7):\n",
        "            if (j == 1 and i != 0 and i != 6) or ((i == 0 or i == 6) and (j > 1 and j < 5)) or (i == 3 and j > 2 and j < 6) or (j == 5 and i != 0 and i != 2 and i != 6):\n",
        "                pattern += \"*\"\n",
        "            else:\n",
        "                pattern += \" \"\n",
        "        pattern += \"\\n\"\n",
        "    print(pattern)\n",
        "\n",
        "# Example usage:\n",
        "print_pattern_G()"
      ]
    },
    {
      "cell_type": "code",
      "execution_count": 35,
      "metadata": {
        "colab": {
          "base_uri": "https://localhost:8080/",
          "height": 0
        },
        "id": "H58imUQPBOm6",
        "outputId": "98314987-ec2e-4c5e-bc89-1d7d2f755abb"
      },
      "outputs": [
        {
          "name": "stdout",
          "output_type": "stream",
          "text": [
            "Enter elements of the list separated by space : 1 2 3 4 5\n",
            "Sum of the array: 15\n"
          ]
        }
      ],
      "source": [
        "arr = list(int(x) for x in input(\"Enter elements of the list separated by space : \").split())\n",
        "print(\"Sum of the array:\", sum(arr))"
      ]
    },
    {
      "cell_type": "code",
      "execution_count": 36,
      "metadata": {
        "colab": {
          "base_uri": "https://localhost:8080/",
          "height": 0
        },
        "id": "pZlBn4JrBsoV",
        "outputId": "3eb75a57-e4ed-415f-c8b0-3d64da3f3c34"
      },
      "outputs": [
        {
          "name": "stdout",
          "output_type": "stream",
          "text": [
            "Enter a number: 10\n",
            "Sum of squares of first 10 natural numbers is: 385\n"
          ]
        }
      ],
      "source": [
        "#Sum of squares of first n natural numbers\n",
        "def sum_of_squares(n): #n=10\n",
        "    return sum(list(i**2 for i in range(1, n+1))) # 1+4+9+16+25+36+49+64+81+100\n",
        "\n",
        "# Example usage:\n",
        "n = int(input(\"Enter a number: \"))\n",
        "print(\"Sum of squares of first\", n, \"natural numbers is:\", sum_of_squares(n))"
      ]
    },
    {
      "cell_type": "code",
      "execution_count": 38,
      "metadata": {
        "colab": {
          "base_uri": "https://localhost:8080/",
          "height": 0
        },
        "id": "zToVK5RnCSZo",
        "outputId": "c8f4e631-1f3b-4b09-f581-47522963d3e7"
      },
      "outputs": [
        {
          "name": "stdout",
          "output_type": "stream",
          "text": [
            "Enter a string: rjb\n",
            "Vowels in the string are: None\n"
          ]
        }
      ],
      "source": [
        "vowels = ['a','e','i','o','u','A','E','I','O','U']\n",
        "\n",
        "def check_vowel(s):\n",
        "    for char in s:\n",
        "        if char in vowels:\n",
        "            return True\n",
        "    return False\n",
        "\n",
        "def find_vowels(s):\n",
        "    if check_vowel(s):\n",
        "        return [char for char in s if char in vowels]\n",
        "\n",
        "# Example usage:\n",
        "string = input(\"Enter a string: \")\n",
        "print(\"Vowels in the string are:\", find_vowels(string))"
      ]
    },
    {
      "cell_type": "code",
      "execution_count": 39,
      "metadata": {
        "colab": {
          "base_uri": "https://localhost:8080/",
          "height": 0
        },
        "id": "l3ohrY1GCfKh",
        "outputId": "dd0b9452-056c-469c-d45e-6abdca843710"
      },
      "outputs": [
        {
          "name": "stdout",
          "output_type": "stream",
          "text": [
            "Euclidean distance: 5.196152422706632\n"
          ]
        }
      ],
      "source": [
        "import math\n",
        "def euclidean_distance(point1, point2):\n",
        "    return math.sqrt(sum([(x - y) ** 2 for x, y in zip(point1, point2)]))\n",
        "# Example usage:\n",
        "point1 = (1, 2, 3)\n",
        "point2 = (4, 5, 6)\n",
        "print(\"Euclidean distance:\", euclidean_distance(point1, point2))"
      ]
    },
    {
      "cell_type": "code",
      "execution_count": 46,
      "metadata": {
        "colab": {
          "base_uri": "https://localhost:8080/",
          "height": 0
        },
        "id": "ulVe8pudC78E",
        "outputId": "418b59ff-cd36-4089-ab5d-2e7647675fe8"
      },
      "outputs": [
        {
          "name": "stdout",
          "output_type": "stream",
          "text": [
            "Enter elements of the array separated by space: 1 2 3 4 5\n",
            "Enter the target element to search: 2\n"
          ]
        },
        {
          "data": {
            "text/plain": [
              "('Element found at index ', 1)"
            ]
          },
          "execution_count": 46,
          "metadata": {},
          "output_type": "execute_result"
        }
      ],
      "source": [
        "def linear_search(arr, target):\n",
        "    return next(((\"Element found at index \", i) for i in range(len(arr)) if arr[i] == target), (\"Element not found\",))\n",
        "\n",
        "# Example usage:\n",
        "arr = [int(x) for x in input(\"Enter elements of the array separated by space: \").split()]\n",
        "target = int(input(\"Enter the target element to search: \"))\n",
        "linear_search(arr, target)"
      ]
    },
    {
      "cell_type": "code",
      "execution_count": 44,
      "metadata": {
        "colab": {
          "base_uri": "https://localhost:8080/",
          "height": 0
        },
        "id": "gI-AF8J0EYJP",
        "outputId": "7091a73e-7825-44cc-cec6-1c2778b43509"
      },
      "outputs": [
        {
          "name": "stdout",
          "output_type": "stream",
          "text": [
            "Enter elements of the list separated by space: 1 2 4 5 6\n",
            "Smallest element: 1\n",
            "Largest element: 6\n"
          ]
        }
      ],
      "source": [
        "arr = [int(x) for x in input(\"Enter elements of the list separated by space: \").split()]\n",
        "print(\"Smallest element:\", min(arr))\n",
        "print(\"Largest element:\", max(arr))"
      ]
    }
  ],
  "metadata": {
    "colab": {
      "provenance": []
    },
    "kernelspec": {
      "display_name": "Python 3",
      "name": "python3"
    },
    "language_info": {
      "name": "python",
      "version": "3.12.2"
    }
  },
  "nbformat": 4,
  "nbformat_minor": 0
}
