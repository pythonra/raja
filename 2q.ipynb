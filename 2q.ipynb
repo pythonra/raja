{
 "cells": [
  {
   "cell_type": "code",
   "execution_count": 3,
   "metadata": {
    "colab": {
     "base_uri": "https://localhost:8080/"
    },
    "id": "o3SN4kt5Xtu2",
    "outputId": "165dc5cb-0e42-48f3-c332-a5d118f674a3"
   },
   "outputs": [
    {
     "name": "stdout",
     "output_type": "stream",
     "text": [
      "Enter first number: 55\n",
      "Enter second number: 54\n",
      "Sum: 109\n"
     ]
    }
   ],
   "source": [
    "#add two number\n",
    "num1 = int(input(\"Enter first number: \"))\n",
    "num2 = int(input(\"Enter second number: \"))\n",
    "sum = num1 + num2\n",
    "print(\"Sum:\", sum)\n"
   ]
  },
  {
   "cell_type": "code",
   "execution_count": 5,
   "metadata": {
    "colab": {
     "base_uri": "https://localhost:8080/"
    },
    "id": "X0g767NIX4Kc",
    "outputId": "a2ae07e4-652d-4980-fcce-108671376bee"
   },
   "outputs": [
    {
     "name": "stdout",
     "output_type": "stream",
     "text": [
      "Enter a number: 24\n",
      "24 is not an Armstrong number\n"
     ]
    }
   ],
   "source": [
    "#amstrong number\n",
    "def is_armstrong(num):#2,3,\n",
    "    order = len(str(num))#2 -> '2' -> 1\n",
    "    sum = 0\n",
    "    temp = num\n",
    "    while temp > 0:\n",
    "        digit = temp % 10\n",
    "        sum += digit ** order\n",
    "        temp //= 10\n",
    "    return num == sum\n",
    "\n",
    "# Example usage:\n",
    "num = int(input(\"Enter a number: \"))\n",
    "if is_armstrong(num):\n",
    "    print(num, \"is an Armstrong number\")\n",
    "else:\n",
    "    print(num, \"is not an Armstrong number\")"
   ]
  },
  {
   "cell_type": "code",
   "execution_count": 6,
   "metadata": {
    "colab": {
     "base_uri": "https://localhost:8080/"
    },
    "id": "Q64D5aLxZBqm",
    "outputId": "1799cffd-ce5e-49f1-bf7b-d1cf2aa2706e"
   },
   "outputs": [
    {
     "name": "stdout",
     "output_type": "stream",
     "text": [
      "Enter a number: 53\n",
      "53 is an prime number\n"
     ]
    }
   ],
   "source": [
    "#prime number\n",
    "def is_prime(num):\n",
    "    if num <= 1:\n",
    "        return False\n",
    "    for i in range(2, int(num**0.5) + 1):\n",
    "        if num % i == 0:\n",
    "            return False\n",
    "    return True\n",
    "\n",
    "\n",
    "num = int(input(\"Enter a number: \"))\n",
    "if is_prime(num):\n",
    "    print(num, \"is an prime number\")\n",
    "else:\n",
    "    print(num, \"is not an prime number\")"
   ]
  },
  {
   "cell_type": "code",
   "execution_count": 7,
   "metadata": {
    "colab": {
     "base_uri": "https://localhost:8080/"
    },
    "id": "mqg0ad-8ZqWC",
    "outputId": "8d0aff5d-3513-452c-a36a-caeab12edb2a"
   },
   "outputs": [
    {
     "name": "stdout",
     "output_type": "stream",
     "text": [
      "Enter elements of the list separated by space: 5 4 6 7\n",
      "The largest among the array is  7\n"
     ]
    }
   ],
   "source": [
    "#leargest number of arrey\n",
    "lst = [int(x) for x in input(\"Enter elements of the list separated by space: \").split()]\n",
    "print(\"The largest among the array is \",max(lst))"
   ]
  },
  {
   "cell_type": "code",
   "execution_count": 13,
   "metadata": {
    "colab": {
     "base_uri": "https://localhost:8080/"
    },
    "id": "R_FctMttaF_-",
    "outputId": "d5c83a83-96fa-4313-a3d4-4ea1a3055324"
   },
   "outputs": [
    {
     "name": "stdout",
     "output_type": "stream",
     "text": [
      "Enter the size of array :2\n",
      "Enter the No.6\n",
      "Enter the No.2\n",
      "Enter index of first element to swap: 0\n",
      "Enter index of second element to swap: 1\n",
      "List after swapping: [2, 6]\n"
     ]
    }
   ],
   "source": [
    "#swap element1\n",
    "def swap_elements(lst, idx1, idx2):\n",
    "    lst[idx1], lst[idx2] = lst[idx2], lst[idx1]\n",
    "\n",
    "lst =[]\n",
    "\n",
    "size = int(input(\"Enter the size of array :\"))\n",
    "for i in range(size):\n",
    "    lst.append(int(input(\"Enter the No.\")))\n",
    "\n",
    "elt1 = int(input(\"Enter index of first element to swap: \"))\n",
    "elt2 = int(input(\"Enter index of second element to swap: \"))\n",
    "swap_elements(lst, elt1, elt2)\n",
    "print(\"List after swapping:\", lst)"
   ]
  },
  {
   "cell_type": "code",
   "execution_count": 14,
   "metadata": {
    "colab": {
     "base_uri": "https://localhost:8080/"
    },
    "id": "Bmhb8P9HbtYc",
    "outputId": "d1be4ccd-4f4d-4f3f-e6e6-914b699fbc71"
   },
   "outputs": [
    {
     "name": "stdout",
     "output_type": "stream",
     "text": [
      "Enter elements of the list separated by space: 1 2 3 4 5\n",
      "Reversed list: [5, 4, 3, 2, 1]\n"
     ]
    }
   ],
   "source": [
    "#reversing list\n",
    "lst = [int(x) for x in input(\"Enter elements of the list separated by space: \").split()]\n",
    "lst_rev = lst[::-1]\n",
    "print(\"Reversed list:\", lst_rev)"
   ]
  },
  {
   "cell_type": "code",
   "execution_count": 15,
   "metadata": {
    "colab": {
     "base_uri": "https://localhost:8080/"
    },
    "id": "W40kK9UgcK8K",
    "outputId": "1f1ab7fd-d26e-43da-81dd-88c16c721e33"
   },
   "outputs": [
    {
     "name": "stdout",
     "output_type": "stream",
     "text": [
      "Enter elements of the list separated by space : 1 2 3 5 7 8 \n",
      "Odd numbers: [1, 3, 5, 7]\n",
      "Even numbers: [2, 8]\n"
     ]
    }
   ],
   "source": [
    "#define odd even number\n",
    "def find_odd_even(lst):\n",
    "    odd = [x for x in lst if x % 2 != 0]\n",
    "    even = [x for x in lst if x % 2 == 0]\n",
    "    return odd, even\n",
    "\n",
    "lst = [int(x) for x in input(\"Enter elements of the list separated by space : \").split()]\n",
    "odd, even = find_odd_even(lst)\n",
    "print(\"Odd numbers:\", odd)\n",
    "print(\"Even numbers:\", even)\n"
   ]
  },
  {
   "cell_type": "code",
   "execution_count": 16,
   "metadata": {
    "colab": {
     "base_uri": "https://localhost:8080/"
    },
    "id": "NKIPyfxgcyIe",
    "outputId": "c97b9c6a-347f-4430-e974-10384fee8320"
   },
   "outputs": [
    {
     "name": "stdout",
     "output_type": "stream",
     "text": [
      "Matrix addition:\n",
      "[[ 6  8]\n",
      " [10 12]]\n"
     ]
    }
   ],
   "source": [
    "#matrix addition\n",
    "import numpy as np\n",
    "\n",
    "matrix1 = np.array([[1, 2], [3, 4]])\n",
    "matrix2 = np.array([[5, 6], [7, 8]])\n",
    "print(\"Matrix addition:\")\n",
    "print(np.add(matrix1, matrix2))"
   ]
  },
  {
   "cell_type": "code",
   "execution_count": 17,
   "metadata": {
    "colab": {
     "base_uri": "https://localhost:8080/"
    },
    "id": "VCBD8O0ydFlt",
    "outputId": "2f18ad76-b4c9-4265-b398-9f8dca0ace52"
   },
   "outputs": [
    {
     "name": "stdout",
     "output_type": "stream",
     "text": [
      "Matrix multiplication:\n",
      "[[22 28]\n",
      " [49 62]]\n"
     ]
    }
   ],
   "source": [
    "#matrix multiplication\n",
    "import numpy as np\n",
    "\n",
    "matrix1 = np.array([[1, 2, 3], [3, 4, 6]])\n",
    "matrix2 = np.array([[5, 6], [7, 8], [1, 2]])\n",
    "print(\"Matrix multiplication:\")\n",
    "print(np.dot(matrix1, matrix2))"
   ]
  },
  {
   "cell_type": "code",
   "execution_count": 22,
   "metadata": {
    "colab": {
     "base_uri": "https://localhost:8080/"
    },
    "id": "f6R9QL7cdTnV",
    "outputId": "0a17d23c-004e-424c-fe96-62e32a33ddd8"
   },
   "outputs": [
    {
     "name": "stdout",
     "output_type": "stream",
     "text": [
      "Enter a string: timja\n",
      "Not a palindrome\n"
     ]
    }
   ],
   "source": [
    "#palindrome\n",
    "def is_palindrome(s):\n",
    "    s = s.lower()\n",
    "    return s == s[::-1]\n",
    "\n",
    "# Example usage:\n",
    "string = input(\"Enter a string: \")\n",
    "if is_palindrome(string):\n",
    "    print(\"Palindrome\")\n",
    "else:\n",
    "    print(\"Not a palindrome\")"
   ]
  },
  {
   "cell_type": "code",
   "execution_count": 24,
   "metadata": {
    "colab": {
     "base_uri": "https://localhost:8080/"
    },
    "id": "Lkt-NJqadf-G",
    "outputId": "b693dd1f-fba6-44c1-88fb-b9b8d000a409"
   },
   "outputs": [
    {
     "name": "stdout",
     "output_type": "stream",
     "text": [
      "Enter elements of the tuple separated by space : 1 2 4 6 7 8 \n",
      "Size of the tuple: 6\n"
     ]
    }
   ],
   "source": [
    "#size of the touple\n",
    "tuple1 = tuple(int(x) for x in input(\"Enter elements of the tuple separated by space : \").split())\n",
    "print(\"Size of the tuple:\", len(tuple1))"
   ]
  },
  {
   "cell_type": "code",
   "execution_count": 25,
   "metadata": {
    "colab": {
     "base_uri": "https://localhost:8080/"
    },
    "id": "at26UgN9ehBH",
    "outputId": "c711a481-84de-4f38-ef27-f051a1a7d145"
   },
   "outputs": [
    {
     "name": "stdout",
     "output_type": "stream",
     "text": [
      "Current date and time: 2024-03-12 16:24:12.185812\n"
     ]
    }
   ],
   "source": [
    "#date and time\n",
    "import datetime\n",
    "print(\"Current date and time:\", datetime.datetime.now())"
   ]
  },
  {
   "cell_type": "code",
   "execution_count": 26,
   "metadata": {
    "colab": {
     "base_uri": "https://localhost:8080/"
    },
    "id": "FTDQ_TdtezPh",
    "outputId": "b1c7b513-b219-4631-881c-7d49bf1694ca"
   },
   "outputs": [
    {
     "name": "stdout",
     "output_type": "stream",
     "text": [
      "  ***  \n",
      " *   * \n",
      " *     \n",
      " * *** \n",
      " *   * \n",
      " *   * \n",
      "  ***  \n",
      "\n"
     ]
    }
   ],
   "source": [
    "#print G\n",
    "def print_pattern_G():\n",
    "    pattern = \"\"\n",
    "    for i in range(7):\n",
    "        for j in range(7):\n",
    "            if (j == 1 and i != 0 and i != 6) or ((i == 0 or i == 6) and (j > 1 and j < 5)) or (i == 3 and j > 2 and j < 6) or (j == 5 and i != 0 and i != 2 and i != 6):\n",
    "                pattern += \"*\"\n",
    "            else:\n",
    "                pattern += \" \"\n",
    "        pattern += \"\\n\"\n",
    "    print(pattern)\n",
    "\n",
    "print_pattern_G()\n"
   ]
  },
  {
   "cell_type": "code",
   "execution_count": 2,
   "metadata": {},
   "outputs": [
    {
     "name": "stdout",
     "output_type": "stream",
     "text": [
      "Enter elements of the list separated by space : 1 2 4 7 \n",
      "Sum of the array: 14\n"
     ]
    }
   ],
   "source": [
    "#find sum of arry\n",
    "arr = list(int(x) for x in input(\"Enter elements of the list separated by space : \").split())\n",
    "print(\"Sum of the array:\", sum(arr))\n"
   ]
  },
  {
   "cell_type": "code",
   "execution_count": 3,
   "metadata": {},
   "outputs": [
    {
     "name": "stdout",
     "output_type": "stream",
     "text": [
      "Enter a number: 20\n",
      "Sum of squares of first 20 natural numbers is: 2870\n"
     ]
    }
   ],
   "source": [
    "#Sum of squares of first n natural numbers\n",
    "def sum_of_squares(n): #n=10\n",
    "    return sum(list(i**2 for i in range(1, n+1))) # 1+4+9+16+25+36+49+64+81+100\n",
    "\n",
    "# Example usage:\n",
    "n = int(input(\"Enter a number: \"))\n",
    "print(\"Sum of squares of first\", n, \"natural numbers is:\", sum_of_squares(n))\n",
    "     "
   ]
  },
  {
   "cell_type": "code",
   "execution_count": 5,
   "metadata": {},
   "outputs": [
    {
     "name": "stdout",
     "output_type": "stream",
     "text": [
      "Enter a string: raja\n",
      "Vowels in the string are: ['a', 'a']\n"
     ]
    }
   ],
   "source": [
    "vowels = ['a','e','i','o','u','A','E','I','O','U']\n",
    "\n",
    "def check_vowel(s):\n",
    "    for char in s:\n",
    "        if char in vowels:\n",
    "            return True\n",
    "    return False\n",
    "\n",
    "def find_vowels(s):\n",
    "    if check_vowel(s):\n",
    "        return [char for char in s if char in vowels]\n",
    "\n",
    "# Example usage:\n",
    "string = input(\"Enter a string: \")\n",
    "print(\"Vowels in the string are:\", find_vowels(string))"
   ]
  },
  {
   "cell_type": "code",
   "execution_count": 6,
   "metadata": {},
   "outputs": [
    {
     "name": "stdout",
     "output_type": "stream",
     "text": [
      "Euclidean distance: 5.196152422706632\n"
     ]
    }
   ],
   "source": [
    "#Euclidean distance\n",
    "import math\n",
    "def euclidean_distance(point1, point2):\n",
    "    return math.sqrt(sum([(x - y) ** 2 for x, y in zip(point1, point2)]))\n",
    "# Example usage:\n",
    "point1 = (1, 2, 3)\n",
    "point2 = (4, 5, 6)\n",
    "print(\"Euclidean distance:\", euclidean_distance(point1, point2))"
   ]
  },
  {
   "cell_type": "code",
   "execution_count": 7,
   "metadata": {},
   "outputs": [
    {
     "name": "stdout",
     "output_type": "stream",
     "text": [
      "Enter elements of the array separated by space: 1 2 3 4 5 6\n",
      "Enter the target element to search: 2\n"
     ]
    },
    {
     "data": {
      "text/plain": [
       "('Element found at index ', 1)"
      ]
     },
     "execution_count": 7,
     "metadata": {},
     "output_type": "execute_result"
    }
   ],
   "source": [
    "#linear search\n",
    "def linear_search(arr, target):\n",
    "    return next(((\"Element found at index \", i) for i in range(len(arr)) if arr[i] == target), (\"Element not found\",))\n",
    "\n",
    "# Example usage:\n",
    "arr = [int(x) for x in input(\"Enter elements of the array separated by space: \").split()]\n",
    "target = int(input(\"Enter the target element to search: \"))\n",
    "linear_search(arr, target)"
   ]
  },
  {
   "cell_type": "code",
   "execution_count": 8,
   "metadata": {},
   "outputs": [
    {
     "name": "stdout",
     "output_type": "stream",
     "text": [
      "Enter elements of the list separated by space: 1 2 3 4\n",
      "Smallest element: 1\n",
      "Largest element: 4\n"
     ]
    }
   ],
   "source": [
    "#largest number smallest number\n",
    "arr = [int(x) for x in input(\"Enter elements of the list separated by space: \").split()]\n",
    "print(\"Smallest element:\", min(arr))\n",
    "print(\"Largest element:\", max(arr))\n",
    "     "
   ]
  },
  {
   "cell_type": "code",
   "execution_count": null,
   "metadata": {},
   "outputs": [],
   "source": []
  }
 ],
 "metadata": {
  "colab": {
   "provenance": []
  },
  "kernelspec": {
   "display_name": "Python 3 (ipykernel)",
   "language": "python",
   "name": "python3"
  },
  "language_info": {
   "codemirror_mode": {
    "name": "ipython",
    "version": 3
   },
   "file_extension": ".py",
   "mimetype": "text/x-python",
   "name": "python",
   "nbconvert_exporter": "python",
   "pygments_lexer": "ipython3",
   "version": "3.11.5"
  }
 },
 "nbformat": 4,
 "nbformat_minor": 1
}
